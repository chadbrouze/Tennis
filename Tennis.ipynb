{
 "cells": [
  {
   "cell_type": "markdown",
   "metadata": {},
   "source": [
    "## The learning algorithm"
   ]
  },
  {
   "cell_type": "markdown",
   "metadata": {},
   "source": [
    "This reinforcement learning task was solved using Deep Deterministic Policy Gradient, an algorithm created by OpenAI. DDPG is closely related to Q-learning but adapted for use in continuous spaces. The algorithm utilises innovations from Q-learning such as fixed target and experience replay. The algorithm falls under an umbrella called the Actor-Critic method and consists of 4 networks: actor, critic, target-actor and target-critic. \n",
    "\n",
    "The algorithm uses the current actor-network to choose an action a based on input state s, and the environment returns reward r and next_state s’. In the replay buffer, this is stored as an experience tuple, <s,a,r,s’>. The replay buffer is used to break correlations between consecutive experience tuples. The max size is 750000, and once it is full, the oldest experiences are discarded. Once BATCH_SIZE experiences are in the buffer, the agent begins learning.\n",
    "\n",
    "The current actor and critic networks are updated as follows:\n",
    "1) A minibatch of experience tuples is sampled from the replay buffer randomly. \n",
    "2) Action a’ is then chosen by the target-actor and evaluated by the target-critic. \n",
    "3) This value is then discounted by gamma, added to reward r to from y.\n",
    "4) The loss is then calculated by the MSE of y, and the expected value of action a calculated by the current critic.\n",
    "5) This loss is used to update the current critic through backpropagation.\n",
    "6) We then update the actor-network by taking the derivative of the critic network with respect to the policy parameters, using the mean of the gradients in the mini-batch.\n",
    "\n",
    "The target networks are just delayed copies of the actor and critic networks, which improves stability as the agent is chasing a much slower-moving target. Every episode, these target networks are updated by a small amount, tau, to match the current actor and critic closely. This project performs a hard update (current weights completely transferred to target weights) every HARD_FREQ, reducing training time without causing any stability issues.\n",
    "\n",
    "In this implementation, agents share their experience by soft copying eachothers local actor networks every 100 episodes. Each agent has its own replay buffer, and set of neural networks. Although, hyperparameters are the same for both. Each timestep, both agents undergo the same update process.\n"
   ]
  },
  {
   "cell_type": "markdown",
   "metadata": {},
   "source": [
    "## Hyperparameter Choice"
   ]
  },
  {
   "cell_type": "markdown",
   "metadata": {},
   "source": [
    "BUFFER_SIZE = int(0.75e6) #smaller than usual due to having 2    \n",
    "BATCH_SIZE = 256        # chosen to fit in GPU memory   \n",
    "GAMMA = 0.95           # discount factor   \n",
    "TAU = 0.5e-3              # low due to addition of hard updates   \n",
    "LR_ACTOR = 1e-4         # learning rate of the actor    \n",
    "LR_CRITIC = 1e-4        # learning rate of the critic   \n",
    "WEIGHT_DECAY = 0        # L2 weight decay   \n",
    "EPSILON_DEC =0.995   #noise reduction   \n",
    "TRAIN_FREQ=10     #how often train agent   \n",
    "HARD_FREQ=200    #how often to perform the hard update   \n",
    "TRAIN_N=5      #how many times train agent   \n",
    "sharing=0.1    #agents share their ideas.  \n",
    "  \n",
    "fc_1 = 350 #smaller to combat multi agent instability   \n",
    "fc_2 = 250 #decrease as action vector much smaller than state vector        "
   ]
  },
  {
   "cell_type": "markdown",
   "metadata": {},
   "source": [
    "## Enviroment Setup"
   ]
  },
  {
   "cell_type": "code",
   "execution_count": 1,
   "metadata": {},
   "outputs": [
    {
     "name": "stdout",
     "output_type": "stream",
     "text": [
      "\u001b[31mtensorflow 1.7.1 has requirement numpy>=1.13.3, but you'll have numpy 1.12.1 which is incompatible.\u001b[0m\r\n",
      "\u001b[31mipython 6.5.0 has requirement prompt-toolkit<2.0.0,>=1.0.15, but you'll have prompt-toolkit 3.0.29 which is incompatible.\u001b[0m\r\n",
      "\u001b[31mjupyter-console 6.4.3 has requirement jupyter-client>=7.0.0, but you'll have jupyter-client 5.2.4 which is incompatible.\u001b[0m\r\n"
     ]
    },
    {
     "name": "stderr",
     "output_type": "stream",
     "text": [
      "INFO:unityagents:\n",
      "'Academy' started successfully!\n",
      "Unity Academy name: Academy\n",
      "        Number of Brains: 1\n",
      "        Number of External Brains : 1\n",
      "        Lesson number : 0\n",
      "        Reset Parameters :\n",
      "\t\t\n",
      "Unity brain name: TennisBrain\n",
      "        Number of Visual Observations (per agent): 0\n",
      "        Vector Observation space type: continuous\n",
      "        Vector Observation space size (per agent): 8\n",
      "        Number of stacked Vector Observation: 3\n",
      "        Vector Action space type: continuous\n",
      "        Vector Action space size (per agent): 2\n",
      "        Vector Action descriptions: , \n"
     ]
    }
   ],
   "source": [
    "!pip -q install ./python\n",
    "from unityagents import UnityEnvironment\n",
    "import numpy as np\n",
    "\n",
    "env = UnityEnvironment(file_name=\"/data/Tennis_Linux_NoVis/Tennis\")\n",
    "\n",
    "# get the default brain\n",
    "brain_name = env.brain_names[0]\n",
    "brain = env.brains[brain_name]"
   ]
  },
  {
   "cell_type": "markdown",
   "metadata": {},
   "source": [
    "## Imports"
   ]
  },
  {
   "cell_type": "code",
   "execution_count": 2,
   "metadata": {},
   "outputs": [],
   "source": [
    "import gym\n",
    "import random\n",
    "import torch\n",
    "import numpy as np\n",
    "from collections import deque\n",
    "import matplotlib.pyplot as plt\n",
    "%matplotlib inline\n",
    "\n",
    "from Agent import Agent\n",
    "\n",
    "env_info = env.reset(train_mode=True)[brain_name]\n",
    "\n",
    "agent0 = Agent(state_size=24, action_size= 2, random_seed=2)\n",
    "agent1 = Agent(state_size=24, action_size= 2, random_seed=2)"
   ]
  },
  {
   "cell_type": "markdown",
   "metadata": {},
   "source": [
    "## Training Loop"
   ]
  },
  {
   "cell_type": "code",
   "execution_count": 3,
   "metadata": {},
   "outputs": [
    {
     "name": "stdout",
     "output_type": "stream",
     "text": [
      "Episode 100\tScore: 0.00\tAverage Score over 100 episodes: -0.00\n",
      "Episode 200\tScore: 0.00\tAverage Score over 100 episodes: 0.00\n",
      "Episode 300\tScore: 0.00\tAverage Score over 100 episodes: 0.00\n",
      "Episode 400\tScore: 0.00\tAverage Score over 100 episodes: 0.00\n",
      "Episode 500\tScore: 0.00\tAverage Score over 100 episodes: 0.01\n",
      "Episode 600\tScore: 0.00\tAverage Score over 100 episodes: 0.03\n",
      "Episode 700\tScore: 0.00\tAverage Score over 100 episodes: 0.03\n",
      "Episode 800\tScore: 0.10\tAverage Score over 100 episodes: 0.05\n",
      "Episode 900\tScore: 0.10\tAverage Score over 100 episodes: 0.06\n",
      "Episode 1000\tScore: 0.10\tAverage Score over 100 episodes: 0.07\n",
      "Episode 1100\tScore: 0.10\tAverage Score over 100 episodes: 0.06\n",
      "Episode 1200\tScore: 0.09\tAverage Score over 100 episodes: 0.08\n",
      "Episode 1300\tScore: 0.10\tAverage Score over 100 episodes: 0.09\n",
      "Episode 1400\tScore: 0.20\tAverage Score over 100 episodes: 0.14\n",
      "Episode 1500\tScore: 0.20\tAverage Score over 100 episodes: 0.28\n",
      "Episode 1550\tScore: 1.10\tAverage Score over 100 episodes: 0.50\n",
      "\n",
      "Environment solved in 1450 episodes!\tEnded in episode: 1550\n"
     ]
    }
   ],
   "source": [
    "def ddpg(n_episodes=2500, max_t=1000, print_every=100, sharing=0.1):\n",
    "    scores_deque0 = deque(maxlen=print_every)\n",
    "    scores_deque1 = deque(maxlen=print_every)\n",
    "    scores0 = []\n",
    "    scores1 = []\n",
    "    for i_episode in range(1, n_episodes+1):\n",
    "        env_info = env.reset(train_mode=True)[brain_name]\n",
    "        state0 = env_info.vector_observations[0] \n",
    "        state1 = env_info.vector_observations[1] \n",
    "        agent0.reset()\n",
    "        agent1.reset()\n",
    "        score0 = 0\n",
    "        score1 = 0\n",
    "        for t in range(max_t):\n",
    "            action0 = agent0.act(state0)\n",
    "            action1 = agent1.act(state1)\n",
    "            env_info = env.step(np.array([action0,action1]))[brain_name]\n",
    "            next_state0 = env_info.vector_observations[0]  \n",
    "            next_state1 = env_info.vector_observations[1] \n",
    "            reward0 = env_info.rewards[0]     \n",
    "            reward1 = env_info.rewards[1] \n",
    "            done0 = env_info.local_done[0]   \n",
    "            done1 = env_info.local_done[1]\n",
    "            agent0.step(state0, action0, reward0, next_state0, done0)\n",
    "            agent1.step(state1, action1, reward1, next_state1, done1)\n",
    "            state0 = next_state0\n",
    "            state1 = next_state1\n",
    "            score0 += reward0\n",
    "            score1 += reward1\n",
    "             \n",
    "            if done0 or done1:\n",
    "                break \n",
    "        scores_deque0.append(score0)\n",
    "        scores_deque1.append(score1)\n",
    "        scores0.append(score0)\n",
    "        scores1.append(score1)\n",
    "        if i_episode % print_every == 0:\n",
    "            print('\\rEpisode {}\\tScore: {:.2f}\\tAverage Score over 100 episodes: {:.2f}'.format(i_episode, max(score0,score1), max(np.mean(scores_deque0),np.mean(scores_deque1)), end=\"\\n\"))\n",
    "            \n",
    "            #agents share their experience\n",
    "            for actor0_param, actor1_param in zip(agent0.actor_local.parameters(), \n",
    "agent1.actor_local.parameters()):\n",
    "                actor0_param.data.copy_(sharing*actor1_param.data + \n",
    "(1.0-sharing)*actor0_param.data)\n",
    "                actor1_param.data.copy_(sharing*actor0_param.data + \n",
    "(1.0-sharing)*actor1_param.data)\n",
    "                  \n",
    "        if max(np.mean(scores_deque0), np.mean(scores_deque1)) >= 0.5:\n",
    "            print('\\rEpisode {}\\tScore: {:.2f}\\tAverage Score over 100 episodes: {:.2f}'.format(i_episode, max(score0,score1), max(np.mean(scores_deque0),np.mean(scores_deque1)), end=\"\\n\"))\n",
    "            print('\\nEnvironment solved in {:d} episodes!\\tEnded in episode: {:d}'.format(i_episode-100,i_episode ))\n",
    "            torch.save(agent0.actor_local.state_dict(), 'checkpoint_actor.pth')\n",
    "            torch.save(agent0.critic_local.state_dict(), 'checkpoint_critic.pth')\n",
    "            break    \n",
    "            \n",
    "    return scores0\n",
    "scores = ddpg()"
   ]
  },
  {
   "cell_type": "markdown",
   "metadata": {},
   "source": [
    "### Enviroment was solved in 1000 episodes. Below is a plot of scores per episode"
   ]
  },
  {
   "cell_type": "code",
   "execution_count": 4,
   "metadata": {},
   "outputs": [
    {
     "data": {
      "image/png": "[encoded data removed]",
      "text/plain": [
       "<matplotlib.figure.Figure at 0x7f74185ba828>"
      ]
     },
     "metadata": {
      "needs_background": "light"
     },
     "output_type": "display_data"
    }
   ],
   "source": [
    "plt.plot(scores)\n",
    "plt.xlabel('episode')\n",
    "plt.ylabel('score')\n",
    "plt.title('Plot of score over episodes')\n",
    "plt.show()"
   ]
  },
  {
   "cell_type": "markdown",
   "metadata": {},
   "source": [
    "## Future Imporvement"
   ]
  },
  {
   "cell_type": "markdown",
   "metadata": {},
   "source": [
    "Hyperparamters could use a lot more tuning. In addition it may be worthwile adding memory collaboration (agents share experiences from their replay buffers). In addition, it is likely that placing prior- ity on important/rare experience tuple will lead to faster convergence. Also lot more investigation can be done on the exploration vs exploitation front, as adding noise is far more abstract than the epsilon greedy policy used in regular Q-learning. In addition, the Ornstein-Uhlenbeck process may be an overly complex way to add noise, and simpler methods like normally distributed may also work."
   ]
  }
 ],
 "metadata": {
  "kernelspec": {
   "display_name": "Python 3",
   "language": "python",
   "name": "python3"
  },
  "language_info": {
   "codemirror_mode": {
    "name": "ipython",
    "version": 3
   },
   "file_extension": ".py",
   "mimetype": "text/x-python",
   "name": "python",
   "nbconvert_exporter": "python",
   "pygments_lexer": "ipython3",
   "version": "3.6.3"
  }
 },
 "nbformat": 4,
 "nbformat_minor": 2
}
